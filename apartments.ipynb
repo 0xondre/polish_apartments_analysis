{
  "cells": [
    {
      "cell_type": "markdown",
      "id": "a35eeb9f-df70-4ab1-a243-2d2025888eb0",
      "metadata": {},
      "source": [
        "# Preparing the data\n",
        "Combining data into two datasets, one that contains all rent prices and one that contains all buy prices."
      ]
    },
    {
      "cell_type": "code",
      "execution_count": null,
      "id": "fe55883a-6887-43dd-9498-5333a51799e2",
      "metadata": {
        "scrolled": true,
        "trusted": true
      },
      "outputs": [],
      "source": [
        "import pandas as pd\n",
        "import glob\n",
        "import os\n",
        "buy_files = glob.glob(os.path.join('./dataset/', 'apartments_pl*'))\n",
        "rent_files = glob.glob(os.path.join('./dataset/', 'apartments_rent*'))\n",
        "\n",
        "buy_df = pd.DataFrame()\n",
        "rent_df = pd.DataFrame()\n",
        "\n",
        "for file in buy_files:\n",
        "    df = pd.read_csv(file)\n",
        "    base = os.path.basename(file)\n",
        "    date = base[-11:-4] # 2024_02 transform later if needed\n",
        "    df['date']=date\n",
        "    buy_df = pd.concat([buy_df, df])\n",
        "\n",
        "for file in rent_files:\n",
        "    df = pd.read_csv(file)\n",
        "    base = os.path.basename(file)\n",
        "    date = base[-11:-4] # 2024_02 transform later if needed\n",
        "    df['date']=date\n",
        "    rent_df = pd.concat([rent_df, df])\n",
        "\n",
        "buy_df.to_csv('buy.csv', index=False)\n",
        "rent_df.to_csv('rent.csv', index=False)"
      ]
    },
    {
      "cell_type": "markdown",
      "id": "7c6681b9",
      "metadata": {},
      "source": [
        "# Experiment 0 - checking how points of interest affect prices"
      ]
    },
    {
      "cell_type": "code",
      "execution_count": null,
      "id": "57a1e5ea",
      "metadata": {},
      "outputs": [],
      "source": [
        "buy_df = pd.read_csv('buy.csv')\n",
        "rent_df = pd.read_csv('rent.csv')\n",
        "\n",
        "tested_features = ['poiCount','schoolDistance','clinicDistance','postOfficeDistance','kindergartenDistance','restaurantDistance','collegeDistance','pharmacyDistance', 'price']\n",
        "\n",
        "correlation_buy = buy_df[tested_features].corr()\n",
        "correlation_rent = rent_df[tested_features].corr()\n",
        "\n",
        "print('Correlation matrix for buy \\n',correlation_buy['price'],sep='')\n",
        "print('Correlation matrix for rent \\n',correlation_rent['price'],sep='')\n",
        "\n",
        "wroclaw_buy_df = buy_df[buy_df['city']=='wroclaw']\n",
        "wroclaw_rent_df = rent_df[rent_df['city']=='wroclaw']\n",
        "correlation_buy = wroclaw_buy_df[tested_features].corr()\n",
        "correlation_rent = wroclaw_rent_df[tested_features].corr()\n",
        "\n",
        "print('Correlation matrix for buy in wroclaw \\n',correlation_buy['price'], sep='')\n",
        "print('Correlation matrix for rent in wroclaw \\n',correlation_rent['price'],sep='')"
      ]
    }
  ],
  "metadata": {
    "kernelspec": {
      "display_name": "Python (Pyodide)",
      "language": "python",
      "name": "python"
    },
    "language_info": {
      "codemirror_mode": {
        "name": "python",
        "version": 3
      },
      "file_extension": ".py",
      "mimetype": "text/x-python",
      "name": "python",
      "nbconvert_exporter": "python",
      "pygments_lexer": "ipython3",
      "version": "3.8"
    }
  },
  "nbformat": 4,
  "nbformat_minor": 5
}
