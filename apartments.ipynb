{
  "metadata": {
    "kernelspec": {
      "name": "python",
      "display_name": "Python (Pyodide)",
      "language": "python"
    },
    "language_info": {
      "codemirror_mode": {
        "name": "python",
        "version": 3
      },
      "file_extension": ".py",
      "mimetype": "text/x-python",
      "name": "python",
      "nbconvert_exporter": "python",
      "pygments_lexer": "ipython3",
      "version": "3.8"
    }
  },
  "nbformat_minor": 5,
  "nbformat": 4,
  "cells": [
    {
      "id": "a35eeb9f-df70-4ab1-a243-2d2025888eb0",
      "cell_type": "markdown",
      "source": "# Preparing the data\nCombining data into two datasets, one that contains all rent prices and one that contains all buy prices.",
      "metadata": {}
    },
    {
      "id": "fe55883a-6887-43dd-9498-5333a51799e2",
      "cell_type": "code",
      "source": "import pandas as pd\nimport glob\nimport os\nbuy_files = glob.glob(os.path.join('./dataset/', 'apartments_pl*'))\nrent_files = glob.glob(os.path.join('./dataset/', 'apartments_rent*'))\n\nbuy_df = pd.DataFrame()\nrent_df = pd.DataFrame()\n\nfor file in buy_files:\n    df = pd.read_csv(file)\n    base = os.path.basename(file)\n    date = base[-11:-4] # 2024_02 transform later if needed\n    df['date']=date\n    buy_df = pd.concat([buy_df, df])\n\nfor file in rent_files:\n    df = pd.read_csv(file)\n    base = os.path.basename(file)\n    date = base[-11:-4] # 2024_02 transform later if needed\n    df['date']=date\n    rent_df = pd.concat([rent_df, df])\n\nbuy_df.to_csv('buy.csv', index=False)\nrent_df.to_csv('rent.csv', index=False)\n",
      "metadata": {
        "trusted": true,
        "scrolled": true
      },
      "outputs": [],
      "execution_count": 1
    },
    {
      "id": "9393d0b8-c6ae-4725-8258-550c76f27f21",
      "cell_type": "code",
      "source": "",
      "metadata": {
        "trusted": true
      },
      "outputs": [],
      "execution_count": null
    }
  ]
}